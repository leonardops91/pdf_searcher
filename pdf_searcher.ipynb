{
  "cells": [
    {
      "cell_type": "code",
      "execution_count": 2,
      "metadata": {
        "colab": {
          "base_uri": "https://localhost:8080/"
        },
        "id": "oXSsNUzTkAQK",
        "outputId": "295a4ebe-0568-4ec8-9164-bc553a052fb0"
      },
      "outputs": [
        {
          "name": "stdout",
          "output_type": "stream",
          "text": [
            "Looking in indexes: https://pypi.org/simple, https://us-python.pkg.dev/colab-wheels/public/simple/\n",
            "Collecting PyPDF2\n",
            "  Downloading pypdf2-3.0.1-py3-none-any.whl (232 kB)\n",
            "\u001b[2K     \u001b[90m━━━━━━━━━━━━━━━━━━━━━━━━━━━━━━━━━━━━━━\u001b[0m \u001b[32m232.6/232.6 kB\u001b[0m \u001b[31m18.2 MB/s\u001b[0m eta \u001b[36m0:00:00\u001b[0m\n",
            "\u001b[?25hInstalling collected packages: PyPDF2\n",
            "Successfully installed PyPDF2-3.0.1\n"
          ]
        }
      ],
      "source": [
        "pip install PyPDF2"
      ]
    },
    {
      "cell_type": "code",
      "execution_count": 5,
      "metadata": {
        "colab": {
          "base_uri": "https://localhost:8080/"
        },
        "id": "I276cUsiHtpT",
        "outputId": "40cf051b-1a3c-499e-ac0d-4dd5d54e205a"
      },
      "outputs": [
        {
          "name": "stdout",
          "output_type": "stream",
          "text": [
            "Mounted at /content/drive\n"
          ]
        }
      ],
      "source": [
        "from google.colab import drive\n",
        "drive.mount('/content/drive')"
      ]
    },
    {
      "cell_type": "code",
      "execution_count": 6,
      "metadata": {
        "colab": {
          "base_uri": "https://localhost:8080/"
        },
        "id": "-f6d40-RkCuu",
        "outputId": "4975cdce-7b8b-418c-cf82-731a9aa2bea5"
      },
      "outputs": [
        {
          "name": "stdout",
          "output_type": "stream",
          "text": [
            "                             nome matrícula  página\n",
            "0   Janilson Albuquerque Batista   30915542       5\n",
            "1   Janilson Albuquerque Batista   30915542      21\n",
            "2  RICARDO ALVES PEREIRA DA SILVA  30915542      50\n",
            "3           CleZIO NOBREGA VIEIRA  30915542      50\n",
            "4       MARCIO ROBSON NEVES BRAGA  30645014      54\n"
          ]
        }
      ],
      "source": [
        "#INSTRUÇÕES\n",
        "#NA PRIMEIRA VEZ QUE FOR USAR, INSTALE A DEPENDÊNCIA: PyPDF2\n",
        "#COMANDO PARA O GOOGLE COLAB -> pip install PyPDF2\n",
        "\n",
        "# importa as bibliotecas necessárias\n",
        "import PyPDF2\n",
        "import csv\n",
        "import pandas as pd\n",
        "\n",
        "\n",
        "#INSIRA O NOME ENTRE ASPAS DO CAMINHO COMPLETO DO ARQUIVO .CSV COM OS FUNCIONÁRIOS \n",
        "arquivo_funcionarios = '/content/drive/MyDrive/Colab Notebooks/funcionarios.csv'\n",
        "\n",
        "#INSIRA O NOME ENTRE ASPAS DO CAMINHO COMPLETO DO ARQUIVO .PDF COM O BCG\n",
        "arquivo_pdf = '/content/drive/MyDrive/Colab Notebooks/BCG070-13.04.23.pdf'\n",
        "\n",
        "# Abre o arquivo csv que possui nome e matrícula dos funcionários e cria uma lista\n",
        "funcionarios = []\n",
        "with open(arquivo_funcionarios, 'r') as csv_file:\n",
        "    leitor_csv = csv.DictReader(csv_file)\n",
        "    for funcionario in leitor_csv:\n",
        "        funcionarios.append(funcionario)\n",
        "\n",
        "# Abre o arquivo PDF\n",
        "encontrados = []\n",
        "with open(arquivo_pdf, 'rb') as pdf_file:\n",
        "    #Faz a leitura usando a biblioteca PyPDF2\n",
        "    leitor_pdf = PyPDF2.PdfReader(pdf_file)\n",
        "\n",
        "    #Guarda o número de páginas\n",
        "    qtd_paginas = len(leitor_pdf.pages)\n",
        "\n",
        "    #Lê cada página do arquivo\n",
        "    for i in range(qtd_paginas):\n",
        "      pagina = leitor_pdf.pages[i]\n",
        "      numero_pagina = i + 1\n",
        "\n",
        "      #Extrai apenas as letras e os números e coloca em uma variável do tipo string\n",
        "      letras_e_numeros = \"\"\n",
        "      conteudo_pagina = page.extract_text()\n",
        "      for caractere in conteudo_pagina:\n",
        "          if ord(caractere) in range(48,58) or ord(caractere.lower()) in range(97, 123):\n",
        "              letras_e_numeros += caractere.lower()\n",
        "              \n",
        "      #Procura na string ocorrências dos registros\n",
        "      for funcionario in funcionarios:\n",
        "          nome_formatado = funcionario['nome'].replace(' ', '').strip().lower()\n",
        "          if nome_formatado in letras_e_numeros or funcionario['matricula'] in letras_e_numeros:\n",
        "              encontrados.append({'nome': funcionario['nome'], 'matrícula': funcionario['matricula'], \t\t\t\t'página': numero_pagina})\n",
        "\n",
        "#Exibe o resultado\n",
        "df = pd.DataFrame(encontrados)\n",
        "if len(df) > 0:\n",
        "  print(df)\n",
        "else:\n",
        "  print('Nenhum funcionário da lista foi encontrado')\n",
        "\n",
        "\n"
      ]
    }
  ],
  "metadata": {
    "colab": {
      "provenance": []
    },
    "kernelspec": {
      "display_name": "Python 3",
      "name": "python3"
    },
    "language_info": {
      "name": "python"
    }
  },
  "nbformat": 4,
  "nbformat_minor": 0
}
